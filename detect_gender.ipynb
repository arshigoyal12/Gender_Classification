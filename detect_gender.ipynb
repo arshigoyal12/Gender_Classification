{
 "cells": [
  {
   "cell_type": "code",
   "execution_count": 7,
   "id": "1b327723",
   "metadata": {},
   "outputs": [],
   "source": [
    "import tensorflow\n",
    "from tensorflow.keras.preprocessing.image import img_to_array\n",
    "from tensorflow.keras.models import load_model\n",
    "import numpy as np\n",
    "import argparse\n",
    "import cv2\n",
    "import os\n",
    "import cvlib as cv"
   ]
  },
  {
   "cell_type": "code",
   "execution_count": 2,
   "id": "37de1d33",
   "metadata": {},
   "outputs": [],
   "source": [
    "# Define the path to your test image here\n",
    "image_path = \"Test_Images/image1.jpg\"\n",
    "\n",
    "# Read input image\n",
    "image = cv2.imread(image_path)\n",
    "\n",
    "if image is None:\n",
    "    print(\"Could not read input image\")\n",
    "    exit()"
   ]
  },
  {
   "cell_type": "code",
   "execution_count": 3,
   "id": "b2a7832b",
   "metadata": {},
   "outputs": [],
   "source": [
    "# Load pre-trained model\n",
    "model = load_model(\"my_model.h5\")"
   ]
  },
  {
   "cell_type": "code",
   "execution_count": 4,
   "id": "f070e910",
   "metadata": {},
   "outputs": [],
   "source": [
    "# Detect faces in the image\n",
    "face, confidence = cv.detect_face(image)\n",
    "\n",
    "classes = ['man', 'woman']"
   ]
  },
  {
   "cell_type": "code",
   "execution_count": 5,
   "id": "f316c823",
   "metadata": {},
   "outputs": [
    {
     "name": "stdout",
     "output_type": "stream",
     "text": [
      "1/1 [==============================] - 0s 163ms/step\n",
      "[1.000000e+00 3.784729e-08]\n",
      "['man', 'woman']\n",
      "1/1 [==============================] - 0s 23ms/step\n",
      "[7.385596e-05 9.999261e-01]\n",
      "['man', 'woman']\n"
     ]
    }
   ],
   "source": [
    "# Loop through detected faces\n",
    "for idx, f in enumerate(face):\n",
    "\n",
    "    # Get corner points of face rectangle       \n",
    "    (startX, startY) = f[0], f[1]\n",
    "    (endX, endY) = f[2], f[3]\n",
    "\n",
    "    # Draw rectangle over face\n",
    "    cv2.rectangle(image, (startX, startY), (endX, endY), (0, 255, 0), 2)\n",
    "\n",
    "    # Crop the detected face region\n",
    "    face_crop = np.copy(image[startY:endY, startX:endX])\n",
    "\n",
    "    # Preprocessing for gender detection model\n",
    "    face_crop = cv2.resize(face_crop, (96, 96))\n",
    "    face_crop = face_crop.astype(\"float\") / 255.0\n",
    "    face_crop = img_to_array(face_crop)\n",
    "    face_crop = np.expand_dims(face_crop, axis=0)\n",
    "\n",
    "    # Apply gender detection on face\n",
    "    conf = model.predict(face_crop)[0]\n",
    "    print(conf)\n",
    "    print(classes)\n",
    "\n",
    "    # Get label with max accuracy\n",
    "    idx = np.argmax(conf)\n",
    "    label = classes[idx]\n",
    "\n",
    "    label = \"{}: {:.2f}%\".format(label, conf[idx] * 100)\n",
    "\n",
    "    Y = startY - 10 if startY - 10 > 10 else startY + 10\n",
    "\n",
    "    # Write label and confidence above face rectangle\n",
    "    cv2.putText(image, label, (startX, Y),  cv2.FONT_HERSHEY_SIMPLEX,\n",
    "                0.7, (0, 255, 0), 2)"
   ]
  },
  {
   "cell_type": "code",
   "execution_count": 6,
   "id": "1a5ebaed",
   "metadata": {},
   "outputs": [],
   "source": [
    "# Display output\n",
    "cv2.imshow(\"gender detection\", image)\n",
    "\n",
    "# Press any key to close window           \n",
    "cv2.waitKey()\n",
    "\n",
    "# Save output\n",
    "cv2.imwrite(\"gender_detection.jpg\", image)\n",
    "\n",
    "# Release resources\n",
    "cv2.destroyAllWindows()"
   ]
  },
  {
   "cell_type": "code",
   "execution_count": null,
   "id": "e6f60915",
   "metadata": {},
   "outputs": [],
   "source": []
  }
 ],
 "metadata": {
  "kernelspec": {
   "display_name": "Python 3 (ipykernel)",
   "language": "python",
   "name": "python3"
  },
  "language_info": {
   "codemirror_mode": {
    "name": "ipython",
    "version": 3
   },
   "file_extension": ".py",
   "mimetype": "text/x-python",
   "name": "python",
   "nbconvert_exporter": "python",
   "pygments_lexer": "ipython3",
   "version": "3.10.13"
  }
 },
 "nbformat": 4,
 "nbformat_minor": 5
}
