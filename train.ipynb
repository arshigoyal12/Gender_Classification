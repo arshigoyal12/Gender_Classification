{
 "cells": [
  {
   "cell_type": "code",
   "execution_count": 1,
   "id": "e15a5115",
   "metadata": {},
   "outputs": [],
   "source": [
    "import matplotlib\n",
    "matplotlib.use(\"Agg\")"
   ]
  },
  {
   "cell_type": "code",
   "execution_count": 2,
   "id": "9e897620",
   "metadata": {},
   "outputs": [],
   "source": [
    "from tensorflow.keras.preprocessing.image import ImageDataGenerator\n",
    "from tensorflow.keras.optimizers import Adam\n",
    "from tensorflow.keras.preprocessing.image import img_to_array\n",
    "from tensorflow.keras.utils import to_categorical\n",
    "from tensorflow.keras.utils import plot_model"
   ]
  },
  {
   "cell_type": "code",
   "execution_count": 3,
   "id": "d3828319",
   "metadata": {},
   "outputs": [],
   "source": [
    "from sklearn.model_selection import train_test_split\n",
    "from smallervggnet import SmallerVGGNet\n",
    "import matplotlib.pyplot as plt\n",
    "import numpy as np\n",
    "import argparse\n",
    "import random"
   ]
  },
  {
   "cell_type": "code",
   "execution_count": 4,
   "id": "3bc92f22",
   "metadata": {},
   "outputs": [
    {
     "data": {
      "text/plain": [
       "'the glob module is used to retrieve files/pathnames\\nmatching a specified pattern. It is also predicted that\\naccording to benchmarks it is faster than other methods to\\nmatch pathnames in directories.'"
      ]
     },
     "execution_count": 4,
     "metadata": {},
     "output_type": "execute_result"
    }
   ],
   "source": [
    "'''It is a built-in module in python that we've used to\n",
    "make random numbers.'''\n",
    "\n",
    "import cv2\n",
    "'''OpenCV-Python is a library of Python designed\n",
    "to solve computer vision problems.'''\n",
    "\n",
    "import os\n",
    "import glob\n",
    "'''the glob module is used to retrieve files/pathnames\n",
    "matching a specified pattern. It is also predicted that\n",
    "according to benchmarks it is faster than other methods to\n",
    "match pathnames in directories.'''"
   ]
  },
  {
   "cell_type": "code",
   "execution_count": 5,
   "id": "39bdbb66",
   "metadata": {},
   "outputs": [],
   "source": [
    "# handle command line arguments\n",
    "# '''it takes a list of strings and produce paths to input/output\n",
    "# datasets or output accuracy/loss plot'''\n",
    "\n",
    "# ap = argparse.ArgumentParser()\n",
    "# ap.add_argument(\"-d\", \"--dataset\", required=True,\n",
    "# \thelp=\"path to input dataset (i.e., directory of images)\")\n",
    "\n",
    "# ap.add_argument(\"-m\", \"--model\", type=str, default=\"gender_detection.model\",\n",
    "# \thelp=\"path to output model\")\n",
    "\n",
    "# ap.add_argument(\"-p\", \"--plot\", type=str, default=\"plot.png\",\n",
    "# \thelp=\"path to output accuracy/loss plot\")\n",
    "# args = ap.parse_args()"
   ]
  },
  {
   "cell_type": "code",
   "execution_count": 6,
   "id": "8113717e",
   "metadata": {},
   "outputs": [],
   "source": [
    "# initial parameters\n",
    "epochs = 100\n",
    "lr = 1e-3\n",
    "batch_size = 64\n",
    "img_dims = (96,96,3)\n",
    "\n",
    "data = []\n",
    "labels = []\n",
    "\n",
    "# load image files recursively from the dataset\n",
    "\n",
    "dataset_dir = \"C:/Users/hp/Desktop/Projects/gender_classsss/gender_dataset_face\"\n",
    "\n",
    "# List all directories in the dataset directory\n",
    "class_dirs = [class_dir for class_dir in os.listdir(dataset_dir) if os.path.isdir(os.path.join(dataset_dir, class_dir))]\n",
    "\n",
    "# Iterate over each directory and list all files within them\n",
    "# image_files will contain the paths of all the images\n",
    "\n",
    "image_files = []\n",
    "for class_dir in class_dirs:\n",
    "    for file in os.listdir(os.path.join(dataset_dir, class_dir)):\n",
    "        if not file.startswith('.'):\n",
    "            image_files.append(os.path.join(dataset_dir, class_dir, file))\n",
    "\n",
    "\n",
    "# dataset_dir = \"C:/Users/hp/Desktop/Projects/gender_classsss/gender_dataset_face\"\n",
    "# image_files = [os.path.join(dataset_dir, class_dir, file) \n",
    "#                for class_dir in os.listdir(dataset_dir)\n",
    "#                for file in os.listdir(os.path.join(dataset_dir, class_dir))]\n",
    "\n",
    "# image_files = [f for f in glob.glob(args.dataset + \"/**/*\", recursive=True) if not os.path.isdir(f)] \n",
    "\n",
    "random.seed(42)\n",
    "'''Shuffle a list (reorganize the order of the list items)'''\n",
    "random.shuffle(image_files)"
   ]
  },
  {
   "cell_type": "code",
   "execution_count": 7,
   "id": "6f421a2b",
   "metadata": {},
   "outputs": [
    {
     "data": {
      "text/plain": [
       "2307"
      ]
     },
     "execution_count": 7,
     "metadata": {},
     "output_type": "execute_result"
    }
   ],
   "source": [
    "len(image_files)"
   ]
  },
  {
   "cell_type": "code",
   "execution_count": 8,
   "id": "961a0360",
   "metadata": {},
   "outputs": [],
   "source": [
    "# create ground-truth label from the image path\n",
    "\n",
    "for img in image_files:\n",
    "\n",
    "   #cv2.imread() method loads an image from the specified file  \n",
    "    image = cv2.imread(img)\n",
    "\n",
    "    #changing dimensions\n",
    "    image = cv2.resize(image, (img_dims[0],img_dims[1]))\n",
    "\n",
    "    '''img_to_array() function is provided by keras to convert\n",
    "    a loaded image in PIL format into a NumPy\n",
    "    array.'''\n",
    "    image = img_to_array(image)\n",
    "    data.append(image)\n",
    "\n",
    "    label = img.split(os.path.sep)[-2]\n",
    "    if label == \"woman\":\n",
    "        label = 1\n",
    "    else:\n",
    "        label = 0\n",
    "        \n",
    "    labels.append([label])"
   ]
  },
  {
   "cell_type": "code",
   "execution_count": 9,
   "id": "970ef291",
   "metadata": {},
   "outputs": [],
   "source": [
    "# pre-processing\n",
    "data = np.array(data, dtype=\"float\") / 255.0\n",
    "labels = np.array(labels)"
   ]
  },
  {
   "cell_type": "code",
   "execution_count": 10,
   "id": "7f382804",
   "metadata": {},
   "outputs": [],
   "source": [
    "# split dataset for training and validation\n",
    "(trainX, testX, trainY, testY) = train_test_split(data, labels, test_size=0.2,\n",
    "                                                  random_state=42)\n",
    "trainY = to_categorical(trainY, num_classes=2)\n",
    "testY = to_categorical(testY, num_classes=2)"
   ]
  },
  {
   "cell_type": "code",
   "execution_count": 11,
   "id": "192f8a80",
   "metadata": {},
   "outputs": [],
   "source": [
    "# augmenting dataset\n",
    "\n",
    "aug = ImageDataGenerator(rotation_range=25, width_shift_range=0.1,\n",
    "                         height_shift_range=0.1, shear_range=0.2, zoom_range=0.2,\n",
    "                         horizontal_flip=True, fill_mode=\"nearest\")"
   ]
  },
  {
   "cell_type": "code",
   "execution_count": 12,
   "id": "f1ba8442",
   "metadata": {},
   "outputs": [],
   "source": [
    "# build model\n",
    "model = SmallerVGGNet.build(width=img_dims[0], height=img_dims[1], depth=img_dims[2],\n",
    "                            classes=2)\n",
    "\n",
    "from tensorflow.keras.optimizers import Adam\n",
    "\n",
    "# compile the model\n",
    "opt = Adam(learning_rate=lr)\n",
    "model.compile(loss=\"binary_crossentropy\", optimizer=opt, metrics=[\"accuracy\"])"
   ]
  },
  {
   "cell_type": "code",
   "execution_count": 13,
   "id": "84889aec",
   "metadata": {},
   "outputs": [
    {
     "name": "stderr",
     "output_type": "stream",
     "text": [
      "C:\\Users\\hp\\AppData\\Local\\Temp\\ipykernel_11940\\57631111.py:2: UserWarning: `Model.fit_generator` is deprecated and will be removed in a future version. Please use `Model.fit`, which supports generators.\n",
      "  H = model.fit_generator(aug.flow(trainX, trainY, batch_size=batch_size),\n"
     ]
    },
    {
     "name": "stdout",
     "output_type": "stream",
     "text": [
      "Epoch 1/100\n",
      "28/28 [==============================] - 52s 1s/step - loss: 0.7661 - accuracy: 0.7294 - val_loss: 0.6577 - val_accuracy: 0.6580\n",
      "Epoch 2/100\n",
      "28/28 [==============================] - 37s 1s/step - loss: 0.5084 - accuracy: 0.8136 - val_loss: 1.1189 - val_accuracy: 0.4978\n",
      "Epoch 3/100\n",
      "28/28 [==============================] - 42s 1s/step - loss: 0.4503 - accuracy: 0.8310 - val_loss: 1.2630 - val_accuracy: 0.4978\n",
      "Epoch 4/100\n",
      "28/28 [==============================] - 43s 2s/step - loss: 0.4190 - accuracy: 0.8417 - val_loss: 1.3692 - val_accuracy: 0.4978\n",
      "Epoch 5/100\n",
      "28/28 [==============================] - 40s 1s/step - loss: 0.3786 - accuracy: 0.8630 - val_loss: 2.9209 - val_accuracy: 0.4978\n",
      "Epoch 6/100\n",
      "28/28 [==============================] - 40s 1s/step - loss: 0.3547 - accuracy: 0.8731 - val_loss: 3.1537 - val_accuracy: 0.4978\n",
      "Epoch 7/100\n",
      "28/28 [==============================] - 36s 1s/step - loss: 0.2869 - accuracy: 0.8989 - val_loss: 3.3775 - val_accuracy: 0.4978\n",
      "Epoch 8/100\n",
      "28/28 [==============================] - 41s 1s/step - loss: 0.3051 - accuracy: 0.8956 - val_loss: 3.2126 - val_accuracy: 0.5000\n",
      "Epoch 9/100\n",
      "28/28 [==============================] - 40s 1s/step - loss: 0.2683 - accuracy: 0.9007 - val_loss: 1.5842 - val_accuracy: 0.5931\n",
      "Epoch 10/100\n",
      "28/28 [==============================] - 48s 2s/step - loss: 0.2365 - accuracy: 0.9248 - val_loss: 0.5834 - val_accuracy: 0.7727\n",
      "Epoch 11/100\n",
      "28/28 [==============================] - 42s 1s/step - loss: 0.2271 - accuracy: 0.9124 - val_loss: 0.6168 - val_accuracy: 0.7100\n",
      "Epoch 12/100\n",
      "28/28 [==============================] - 43s 2s/step - loss: 0.1987 - accuracy: 0.9203 - val_loss: 0.6991 - val_accuracy: 0.7359\n",
      "Epoch 13/100\n",
      "28/28 [==============================] - 59s 2s/step - loss: 0.1937 - accuracy: 0.9225 - val_loss: 0.5745 - val_accuracy: 0.7857\n",
      "Epoch 14/100\n",
      "28/28 [==============================] - 37s 1s/step - loss: 0.1643 - accuracy: 0.9349 - val_loss: 0.9755 - val_accuracy: 0.6970\n",
      "Epoch 15/100\n",
      "28/28 [==============================] - 24s 851ms/step - loss: 0.1503 - accuracy: 0.9450 - val_loss: 0.2362 - val_accuracy: 0.9113\n",
      "Epoch 16/100\n",
      "28/28 [==============================] - 24s 845ms/step - loss: 0.1555 - accuracy: 0.9405 - val_loss: 0.2793 - val_accuracy: 0.9091\n",
      "Epoch 17/100\n",
      "28/28 [==============================] - 26s 921ms/step - loss: 0.1749 - accuracy: 0.9332 - val_loss: 0.1466 - val_accuracy: 0.9459\n",
      "Epoch 18/100\n",
      "28/28 [==============================] - 27s 939ms/step - loss: 0.1274 - accuracy: 0.9534 - val_loss: 0.1770 - val_accuracy: 0.9329\n",
      "Epoch 19/100\n",
      "28/28 [==============================] - 30s 1s/step - loss: 0.1251 - accuracy: 0.9534 - val_loss: 0.2922 - val_accuracy: 0.8939\n",
      "Epoch 20/100\n",
      "28/28 [==============================] - 33s 1s/step - loss: 0.1261 - accuracy: 0.9512 - val_loss: 0.1463 - val_accuracy: 0.9524\n",
      "Epoch 21/100\n",
      "28/28 [==============================] - 38s 1s/step - loss: 0.1200 - accuracy: 0.9624 - val_loss: 0.2129 - val_accuracy: 0.9286\n",
      "Epoch 22/100\n",
      "28/28 [==============================] - 35s 1s/step - loss: 0.1264 - accuracy: 0.9568 - val_loss: 0.6156 - val_accuracy: 0.7944\n",
      "Epoch 23/100\n",
      "28/28 [==============================] - 31s 1s/step - loss: 0.1162 - accuracy: 0.9607 - val_loss: 0.1257 - val_accuracy: 0.9459\n",
      "Epoch 24/100\n",
      "28/28 [==============================] - 28s 1s/step - loss: 0.1113 - accuracy: 0.9601 - val_loss: 0.1784 - val_accuracy: 0.9416\n",
      "Epoch 25/100\n",
      "28/28 [==============================] - 36s 1s/step - loss: 0.1379 - accuracy: 0.9459 - val_loss: 0.4121 - val_accuracy: 0.8680\n",
      "Epoch 26/100\n",
      "28/28 [==============================] - 28s 998ms/step - loss: 0.1138 - accuracy: 0.9573 - val_loss: 0.2090 - val_accuracy: 0.9329\n",
      "Epoch 27/100\n",
      "28/28 [==============================] - 24s 840ms/step - loss: 0.1208 - accuracy: 0.9512 - val_loss: 0.1787 - val_accuracy: 0.9351\n",
      "Epoch 28/100\n",
      "28/28 [==============================] - 24s 845ms/step - loss: 0.0900 - accuracy: 0.9646 - val_loss: 0.2230 - val_accuracy: 0.9372\n",
      "Epoch 29/100\n",
      "28/28 [==============================] - 26s 929ms/step - loss: 0.1328 - accuracy: 0.9483 - val_loss: 0.0947 - val_accuracy: 0.9654\n",
      "Epoch 30/100\n",
      "28/28 [==============================] - 27s 959ms/step - loss: 0.0960 - accuracy: 0.9590 - val_loss: 0.1716 - val_accuracy: 0.9394\n",
      "Epoch 31/100\n",
      "28/28 [==============================] - 24s 866ms/step - loss: 0.0931 - accuracy: 0.9680 - val_loss: 0.1167 - val_accuracy: 0.9654\n",
      "Epoch 32/100\n",
      "28/28 [==============================] - 24s 856ms/step - loss: 0.1054 - accuracy: 0.9585 - val_loss: 0.1402 - val_accuracy: 0.9567\n",
      "Epoch 33/100\n",
      "28/28 [==============================] - 25s 897ms/step - loss: 0.0749 - accuracy: 0.9680 - val_loss: 0.1535 - val_accuracy: 0.9459\n",
      "Epoch 34/100\n",
      "28/28 [==============================] - 28s 995ms/step - loss: 0.1012 - accuracy: 0.9646 - val_loss: 0.2046 - val_accuracy: 0.9437\n",
      "Epoch 35/100\n",
      "28/28 [==============================] - 26s 927ms/step - loss: 0.1023 - accuracy: 0.9601 - val_loss: 0.1775 - val_accuracy: 0.9524\n",
      "Epoch 36/100\n",
      "28/28 [==============================] - 24s 864ms/step - loss: 0.0883 - accuracy: 0.9697 - val_loss: 0.1222 - val_accuracy: 0.9610\n",
      "Epoch 37/100\n",
      "28/28 [==============================] - 24s 856ms/step - loss: 0.0910 - accuracy: 0.9635 - val_loss: 0.2805 - val_accuracy: 0.9242\n",
      "Epoch 38/100\n",
      "28/28 [==============================] - 26s 919ms/step - loss: 0.0849 - accuracy: 0.9697 - val_loss: 0.1076 - val_accuracy: 0.9697\n",
      "Epoch 39/100\n",
      "28/28 [==============================] - 43s 2s/step - loss: 0.0740 - accuracy: 0.9674 - val_loss: 0.0812 - val_accuracy: 0.9719\n",
      "Epoch 40/100\n",
      "28/28 [==============================] - 32s 1s/step - loss: 0.0882 - accuracy: 0.9629 - val_loss: 0.1012 - val_accuracy: 0.9675\n",
      "Epoch 41/100\n",
      "28/28 [==============================] - 31s 1s/step - loss: 0.0885 - accuracy: 0.9663 - val_loss: 0.7793 - val_accuracy: 0.7749\n",
      "Epoch 42/100\n",
      "28/28 [==============================] - 35s 1s/step - loss: 0.0977 - accuracy: 0.9624 - val_loss: 0.0919 - val_accuracy: 0.9805\n",
      "Epoch 43/100\n",
      "28/28 [==============================] - 30s 1s/step - loss: 0.0645 - accuracy: 0.9775 - val_loss: 0.1084 - val_accuracy: 0.9567\n",
      "Epoch 44/100\n",
      "28/28 [==============================] - 27s 945ms/step - loss: 0.0509 - accuracy: 0.9820 - val_loss: 0.1017 - val_accuracy: 0.9654\n",
      "Epoch 45/100\n",
      "28/28 [==============================] - 28s 978ms/step - loss: 0.0660 - accuracy: 0.9747 - val_loss: 0.3335 - val_accuracy: 0.9091\n",
      "Epoch 46/100\n",
      "28/28 [==============================] - 31s 1s/step - loss: 0.0826 - accuracy: 0.9710 - val_loss: 0.1744 - val_accuracy: 0.9545\n",
      "Epoch 47/100\n",
      "28/28 [==============================] - 26s 925ms/step - loss: 0.0908 - accuracy: 0.9669 - val_loss: 0.1425 - val_accuracy: 0.9437\n",
      "Epoch 48/100\n",
      "28/28 [==============================] - 24s 853ms/step - loss: 0.0850 - accuracy: 0.9686 - val_loss: 0.1455 - val_accuracy: 0.9481\n",
      "Epoch 49/100\n",
      "28/28 [==============================] - 24s 871ms/step - loss: 0.0796 - accuracy: 0.9686 - val_loss: 0.2540 - val_accuracy: 0.9264\n",
      "Epoch 50/100\n",
      "28/28 [==============================] - 28s 996ms/step - loss: 0.0760 - accuracy: 0.9697 - val_loss: 0.5090 - val_accuracy: 0.8636\n",
      "Epoch 51/100\n",
      "28/28 [==============================] - 31s 1s/step - loss: 0.0815 - accuracy: 0.9714 - val_loss: 0.1495 - val_accuracy: 0.9610\n",
      "Epoch 52/100\n",
      "28/28 [==============================] - 27s 966ms/step - loss: 0.0665 - accuracy: 0.9736 - val_loss: 0.1708 - val_accuracy: 0.9437\n",
      "Epoch 53/100\n",
      "28/28 [==============================] - 26s 920ms/step - loss: 0.0894 - accuracy: 0.9669 - val_loss: 0.1065 - val_accuracy: 0.9632\n",
      "Epoch 54/100\n",
      "28/28 [==============================] - 27s 972ms/step - loss: 0.0867 - accuracy: 0.9663 - val_loss: 0.8463 - val_accuracy: 0.7944\n",
      "Epoch 55/100\n",
      "28/28 [==============================] - 35s 1s/step - loss: 0.0696 - accuracy: 0.9736 - val_loss: 0.0849 - val_accuracy: 0.9675\n",
      "Epoch 56/100\n",
      "28/28 [==============================] - 30s 1s/step - loss: 0.0599 - accuracy: 0.9798 - val_loss: 0.1774 - val_accuracy: 0.9481\n",
      "Epoch 57/100\n",
      "28/28 [==============================] - 25s 883ms/step - loss: 0.0583 - accuracy: 0.9803 - val_loss: 0.7314 - val_accuracy: 0.8247\n",
      "Epoch 58/100\n"
     ]
    },
    {
     "name": "stdout",
     "output_type": "stream",
     "text": [
      "28/28 [==============================] - 24s 835ms/step - loss: 0.0516 - accuracy: 0.9815 - val_loss: 0.1989 - val_accuracy: 0.9156\n",
      "Epoch 59/100\n",
      "28/28 [==============================] - 28s 985ms/step - loss: 0.0595 - accuracy: 0.9753 - val_loss: 0.1144 - val_accuracy: 0.9567\n",
      "Epoch 60/100\n",
      "28/28 [==============================] - 34s 1s/step - loss: 0.0710 - accuracy: 0.9787 - val_loss: 0.1000 - val_accuracy: 0.9740\n",
      "Epoch 61/100\n",
      "28/28 [==============================] - 28s 1s/step - loss: 0.0772 - accuracy: 0.9719 - val_loss: 0.1085 - val_accuracy: 0.9524\n",
      "Epoch 62/100\n",
      "28/28 [==============================] - 25s 877ms/step - loss: 0.0593 - accuracy: 0.9809 - val_loss: 0.0773 - val_accuracy: 0.9762\n",
      "Epoch 63/100\n",
      "28/28 [==============================] - 25s 874ms/step - loss: 0.0462 - accuracy: 0.9826 - val_loss: 0.1101 - val_accuracy: 0.9740\n",
      "Epoch 64/100\n",
      "28/28 [==============================] - 26s 939ms/step - loss: 0.0579 - accuracy: 0.9775 - val_loss: 0.7027 - val_accuracy: 0.8355\n",
      "Epoch 65/100\n",
      "28/28 [==============================] - 30s 1s/step - loss: 0.0608 - accuracy: 0.9742 - val_loss: 2.0262 - val_accuracy: 0.6234\n",
      "Epoch 66/100\n",
      "28/28 [==============================] - 27s 948ms/step - loss: 0.0508 - accuracy: 0.9809 - val_loss: 0.0939 - val_accuracy: 0.9827\n",
      "Epoch 67/100\n",
      "28/28 [==============================] - 24s 868ms/step - loss: 0.0629 - accuracy: 0.9753 - val_loss: 1.1967 - val_accuracy: 0.7619\n",
      "Epoch 68/100\n",
      "28/28 [==============================] - 24s 856ms/step - loss: 0.0572 - accuracy: 0.9792 - val_loss: 0.0910 - val_accuracy: 0.9632\n",
      "Epoch 69/100\n",
      "28/28 [==============================] - 26s 924ms/step - loss: 0.0509 - accuracy: 0.9792 - val_loss: 0.0892 - val_accuracy: 0.9654\n",
      "Epoch 70/100\n",
      "28/28 [==============================] - 31s 1s/step - loss: 0.0431 - accuracy: 0.9826 - val_loss: 0.0946 - val_accuracy: 0.9675\n",
      "Epoch 71/100\n",
      "28/28 [==============================] - 27s 950ms/step - loss: 0.0472 - accuracy: 0.9815 - val_loss: 0.1883 - val_accuracy: 0.9610\n",
      "Epoch 72/100\n",
      "28/28 [==============================] - 24s 853ms/step - loss: 0.0527 - accuracy: 0.9787 - val_loss: 0.1175 - val_accuracy: 0.9502\n",
      "Epoch 73/100\n",
      "28/28 [==============================] - 24s 856ms/step - loss: 0.0514 - accuracy: 0.9798 - val_loss: 0.1371 - val_accuracy: 0.9675\n",
      "Epoch 74/100\n",
      "28/28 [==============================] - 26s 931ms/step - loss: 0.0413 - accuracy: 0.9832 - val_loss: 0.1159 - val_accuracy: 0.9675\n",
      "Epoch 75/100\n",
      "28/28 [==============================] - 31s 1s/step - loss: 0.0531 - accuracy: 0.9820 - val_loss: 1.3086 - val_accuracy: 0.7381\n",
      "Epoch 76/100\n",
      "28/28 [==============================] - 29s 1s/step - loss: 0.0460 - accuracy: 0.9815 - val_loss: 0.2315 - val_accuracy: 0.9177\n",
      "Epoch 77/100\n",
      "28/28 [==============================] - 25s 897ms/step - loss: 0.0596 - accuracy: 0.9730 - val_loss: 0.1120 - val_accuracy: 0.9545\n",
      "Epoch 78/100\n",
      "28/28 [==============================] - 24s 857ms/step - loss: 0.0604 - accuracy: 0.9798 - val_loss: 0.1708 - val_accuracy: 0.9394\n",
      "Epoch 79/100\n",
      "28/28 [==============================] - 26s 938ms/step - loss: 0.0607 - accuracy: 0.9792 - val_loss: 0.2463 - val_accuracy: 0.9372\n",
      "Epoch 80/100\n",
      "28/28 [==============================] - 33s 1s/step - loss: 0.0359 - accuracy: 0.9860 - val_loss: 0.0875 - val_accuracy: 0.9567\n",
      "Epoch 81/100\n",
      "28/28 [==============================] - 30s 1s/step - loss: 0.0550 - accuracy: 0.9803 - val_loss: 0.2848 - val_accuracy: 0.9199\n",
      "Epoch 82/100\n",
      "28/28 [==============================] - 27s 949ms/step - loss: 0.0630 - accuracy: 0.9775 - val_loss: 0.1760 - val_accuracy: 0.9372\n",
      "Epoch 83/100\n",
      "28/28 [==============================] - 31s 1s/step - loss: 0.0506 - accuracy: 0.9809 - val_loss: 0.0822 - val_accuracy: 0.9719\n",
      "Epoch 84/100\n",
      "28/28 [==============================] - 31s 1s/step - loss: 0.0466 - accuracy: 0.9803 - val_loss: 0.2013 - val_accuracy: 0.9459\n",
      "Epoch 85/100\n",
      "28/28 [==============================] - 40s 1s/step - loss: 0.0273 - accuracy: 0.9921 - val_loss: 0.0991 - val_accuracy: 0.9719\n",
      "Epoch 86/100\n",
      "28/28 [==============================] - 30s 1s/step - loss: 0.0508 - accuracy: 0.9803 - val_loss: 0.0675 - val_accuracy: 0.9675\n",
      "Epoch 87/100\n",
      "28/28 [==============================] - 25s 903ms/step - loss: 0.0555 - accuracy: 0.9809 - val_loss: 0.1903 - val_accuracy: 0.9524\n",
      "Epoch 88/100\n",
      "28/28 [==============================] - 25s 904ms/step - loss: 0.0609 - accuracy: 0.9775 - val_loss: 0.0828 - val_accuracy: 0.9762\n",
      "Epoch 89/100\n",
      "28/28 [==============================] - 30s 1s/step - loss: 0.0655 - accuracy: 0.9759 - val_loss: 0.2701 - val_accuracy: 0.9069\n",
      "Epoch 90/100\n",
      "28/28 [==============================] - 35s 1s/step - loss: 0.0497 - accuracy: 0.9837 - val_loss: 0.1107 - val_accuracy: 0.9610\n",
      "Epoch 91/100\n",
      "28/28 [==============================] - 28s 985ms/step - loss: 0.0588 - accuracy: 0.9803 - val_loss: 0.1130 - val_accuracy: 0.9654\n",
      "Epoch 92/100\n",
      "28/28 [==============================] - 25s 879ms/step - loss: 0.0427 - accuracy: 0.9832 - val_loss: 0.3035 - val_accuracy: 0.9242\n",
      "Epoch 93/100\n",
      "28/28 [==============================] - 25s 888ms/step - loss: 0.0418 - accuracy: 0.9837 - val_loss: 0.1047 - val_accuracy: 0.9610\n",
      "Epoch 94/100\n",
      "28/28 [==============================] - 27s 963ms/step - loss: 0.0429 - accuracy: 0.9837 - val_loss: 0.0885 - val_accuracy: 0.9784\n",
      "Epoch 95/100\n",
      "28/28 [==============================] - 34s 1s/step - loss: 0.0319 - accuracy: 0.9883 - val_loss: 0.0839 - val_accuracy: 0.9654\n",
      "Epoch 96/100\n",
      "28/28 [==============================] - 29s 1s/step - loss: 0.0377 - accuracy: 0.9854 - val_loss: 0.0902 - val_accuracy: 0.9654\n",
      "Epoch 97/100\n",
      "28/28 [==============================] - 27s 962ms/step - loss: 0.0474 - accuracy: 0.9832 - val_loss: 0.1954 - val_accuracy: 0.9242\n",
      "Epoch 98/100\n",
      "28/28 [==============================] - 24s 835ms/step - loss: 0.0459 - accuracy: 0.9815 - val_loss: 0.1160 - val_accuracy: 0.9589\n",
      "Epoch 99/100\n",
      "28/28 [==============================] - 27s 949ms/step - loss: 0.0436 - accuracy: 0.9848 - val_loss: 0.0980 - val_accuracy: 0.9610\n",
      "Epoch 100/100\n",
      "28/28 [==============================] - 38s 1s/step - loss: 0.0381 - accuracy: 0.9865 - val_loss: 0.0862 - val_accuracy: 0.9697\n"
     ]
    }
   ],
   "source": [
    "# train the model\n",
    "H = model.fit_generator(aug.flow(trainX, trainY, batch_size=batch_size),\n",
    "                        validation_data=(testX,testY),\n",
    "                        steps_per_epoch=len(trainX) // batch_size,\n",
    "                        epochs=epochs, verbose=1)\n",
    "\n"
   ]
  },
  {
   "cell_type": "code",
   "execution_count": 14,
   "id": "672ca4c3",
   "metadata": {},
   "outputs": [
    {
     "name": "stderr",
     "output_type": "stream",
     "text": [
      "C:\\Users\\hp\\anaconda3\\lib\\site-packages\\keras\\src\\engine\\training.py:3000: UserWarning: You are saving your model as an HDF5 file via `model.save()`. This file format is considered legacy. We recommend using instead the native Keras format, e.g. `model.save('my_model.keras')`.\n",
      "  saving_api.save_model(\n"
     ]
    }
   ],
   "source": [
    "# save the model to disk\n",
    "model.save('my_model.h5')\n",
    "# model.save(\"C:/Users/hp/Desktop/Projects/gender_classsss/\")"
   ]
  },
  {
   "cell_type": "code",
   "execution_count": null,
   "id": "e780c8d7",
   "metadata": {},
   "outputs": [],
   "source": [
    "# Save only the model architecture to a JSON file\n",
    "model_json = model.to_json()\n",
    "with open(\"my_model.json\", \"w\") as json_file:\n",
    "    json_file.write(model_json)"
   ]
  },
  {
   "cell_type": "code",
   "execution_count": null,
   "id": "e13fba89",
   "metadata": {},
   "outputs": [],
   "source": [
    "# Save only the model weights to a separate file\n",
    "model.save_weights('my_model_weights.h5')"
   ]
  },
  {
   "cell_type": "code",
   "execution_count": null,
   "id": "c0aebc79",
   "metadata": {},
   "outputs": [],
   "source": [
    "# Save the optimizer's state\n",
    "model.save_weights('my_model_optimizer_weights.h5')"
   ]
  },
  {
   "cell_type": "code",
   "execution_count": null,
   "id": "7d504d95",
   "metadata": {},
   "outputs": [],
   "source": [
    "plt.plot(H.history['accuracy'], label = 'accuracy')\n",
    "plt.plot(H.history['val_accuracy'], label = 'val_accuracy')\n",
    "plt.xlabel('Epoch')\n",
    "plt.ylabel('Accuracy')\n",
    "plt.ylim([0.5, 1])\n",
    "plt.legend(loc='lower right')"
   ]
  },
  {
   "cell_type": "code",
   "execution_count": null,
   "id": "7d01cf4b",
   "metadata": {},
   "outputs": [],
   "source": []
  },
  {
   "cell_type": "code",
   "execution_count": null,
   "id": "68ca67ab",
   "metadata": {},
   "outputs": [],
   "source": []
  },
  {
   "cell_type": "code",
   "execution_count": null,
   "id": "943f0f90",
   "metadata": {},
   "outputs": [],
   "source": [
    "test_loss, test_acc = model.evaluate(test_images, test_labels, verbose=2)"
   ]
  },
  {
   "cell_type": "code",
   "execution_count": null,
   "id": "515cb9ee",
   "metadata": {},
   "outputs": [],
   "source": []
  },
  {
   "cell_type": "code",
   "execution_count": 26,
   "id": "5dd13715",
   "metadata": {},
   "outputs": [
    {
     "data": {
      "text/plain": [
       "<matplotlib.legend.Legend at 0x20bbc1bae90>"
      ]
     },
     "execution_count": 26,
     "metadata": {},
     "output_type": "execute_result"
    }
   ],
   "source": [
    "# plot training/validation loss/accuracy\n",
    "plt.style.use(\"ggplot\")\n",
    "plt.figure()\n",
    "N = epochs\n",
    "plt.plot(np.arange(0,N), H.history[\"loss\"], label=\"train_loss\")\n",
    "plt.plot(np.arange(0,N), H.history[\"val_loss\"], label=\"val_loss\")\n",
    "plt.plot(np.arange(0,N), H.history[\"accuracy\"], label=\"train_acc\")\n",
    "plt.plot(np.arange(0,N), H.history[\"val_accuracy\"], label=\"val_acc\")\n",
    "\n",
    "plt.title(\"Training Loss and Accuracy\")\n",
    "plt.xlabel(\"Epoch #\")\n",
    "plt.ylabel(\"Loss/Accuracy\")\n",
    "plt.legend(loc=\"upper right\")"
   ]
  },
  {
   "cell_type": "code",
   "execution_count": 28,
   "id": "55637343",
   "metadata": {},
   "outputs": [],
   "source": [
    "# save plot to disk\n",
    "plt.savefig(\"C:/Users/hp/Desktop/Projects/gender_classsss\")"
   ]
  },
  {
   "cell_type": "code",
   "execution_count": null,
   "id": "dfe5100d",
   "metadata": {},
   "outputs": [],
   "source": [
    "# Load model architecture from JSON file\n",
    "with open('my_model.json', 'r') as json_file:\n",
    "    model_json = json_file.read()\n",
    "loaded_model = tf.keras.models.model_from_json(model_json)\n",
    "\n",
    "# Load weights into the new model\n",
    "loaded_model.load_weights('my_model_weights.h5')\n"
   ]
  }
 ],
 "metadata": {
  "kernelspec": {
   "display_name": "Python 3 (ipykernel)",
   "language": "python",
   "name": "python3"
  },
  "language_info": {
   "codemirror_mode": {
    "name": "ipython",
    "version": 3
   },
   "file_extension": ".py",
   "mimetype": "text/x-python",
   "name": "python",
   "nbconvert_exporter": "python",
   "pygments_lexer": "ipython3",
   "version": "3.10.13"
  }
 },
 "nbformat": 4,
 "nbformat_minor": 5
}
