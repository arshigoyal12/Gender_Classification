{
 "cells": [
  {
   "cell_type": "code",
   "execution_count": 1,
   "id": "e15a5115",
   "metadata": {},
   "outputs": [],
   "source": [
    "import matplotlib\n",
    "matplotlib.use(\"Agg\")"
   ]
  },
  {
   "cell_type": "code",
   "execution_count": 2,
   "id": "9e897620",
   "metadata": {},
   "outputs": [],
   "source": [
    "import tensorflow as tf\n",
    "from tensorflow.keras.preprocessing.image import ImageDataGenerator\n",
    "from tensorflow.keras.optimizers import Adam\n",
    "from tensorflow.keras.preprocessing.image import img_to_array\n",
    "from tensorflow.keras.utils import to_categorical\n",
    "from tensorflow.keras.utils import plot_model"
   ]
  },
  {
   "cell_type": "code",
   "execution_count": 3,
   "id": "d3828319",
   "metadata": {},
   "outputs": [],
   "source": [
    "from sklearn.model_selection import train_test_split\n",
    "from smallervggnet import SmallerVGGNet\n",
    "import matplotlib.pyplot as plt\n",
    "import numpy as np\n",
    "import argparse\n",
    "import random"
   ]
  },
  {
   "cell_type": "code",
   "execution_count": 4,
   "id": "41c7b421",
   "metadata": {},
   "outputs": [
    {
     "data": {
      "text/plain": [
       "'the glob module is used to retrieve files/pathnames\\nmatching a specified pattern. It is also predicted that\\naccording to benchmarks it is faster than other methods to\\nmatch pathnames in directories.'"
      ]
     },
     "execution_count": 4,
     "metadata": {},
     "output_type": "execute_result"
    }
   ],
   "source": [
    "'''It is a built-in module in python that we've used to\n",
    "make random numbers.'''\n",
    "\n",
    "import cv2\n",
    "'''OpenCV-Python is a library of Python designed\n",
    "to solve computer vision problems.'''\n",
    "\n",
    "import os\n",
    "import glob\n",
    "'''the glob module is used to retrieve files/pathnames\n",
    "matching a specified pattern. It is also predicted that\n",
    "according to benchmarks it is faster than other methods to\n",
    "match pathnames in directories.'''"
   ]
  },
  {
   "cell_type": "code",
   "execution_count": 5,
   "id": "5dd13715",
   "metadata": {},
   "outputs": [
    {
     "name": "stderr",
     "output_type": "stream",
     "text": [
      "usage: ipykernel_launcher.py [-h] -d DATASET [-m MODEL] [-p PLOT]\n",
      "ipykernel_launcher.py: error: the following arguments are required: -d/--dataset\n"
     ]
    },
    {
     "ename": "SystemExit",
     "evalue": "2",
     "output_type": "error",
     "traceback": [
      "An exception has occurred, use %tb to see the full traceback.\n",
      "\u001b[1;31mSystemExit\u001b[0m\u001b[1;31m:\u001b[0m 2\n"
     ]
    },
    {
     "name": "stderr",
     "output_type": "stream",
     "text": [
      "C:\\Users\\hp\\anaconda3\\lib\\site-packages\\IPython\\core\\interactiveshell.py:3468: UserWarning: To exit: use 'exit', 'quit', or Ctrl-D.\n",
      "  warn(\"To exit: use 'exit', 'quit', or Ctrl-D.\", stacklevel=1)\n"
     ]
    }
   ],
   "source": [
    "# handle command line arguments\n",
    "'''it takes a list of strings and produce paths to input/output\n",
    "datasets or output accuracy/loss plot'''\n",
    "\n",
    "ap = argparse.ArgumentParser()\n",
    "ap.add_argument(\"-d\", \"--dataset\", required=True,\n",
    "\thelp=\"path to input dataset (i.e., directory of images)\")\n",
    "\n",
    "ap.add_argument(\"-m\", \"--model\", type=str, default=\"gender_detection.model\",\n",
    "\thelp=\"path to output model\")\n",
    "\n",
    "ap.add_argument(\"-p\", \"--plot\", type=str, default=\"plot.png\",\n",
    "\thelp=\"path to output accuracy/loss plot\")\n",
    "args = ap.parse_args()\n",
    "\n",
    "# initial parameters\n",
    "epochs = 100\n",
    "lr = 1e-3\n",
    "batch_size = 64\n",
    "img_dims = (96,96,3)\n",
    "\n",
    "data = []\n",
    "labels = []\n",
    "\n",
    "\n",
    "# load image files recursively from the dataset\n",
    "\n",
    "image_files = [f for f in glob.glob(args.dataset + \"/**/*\", recursive=True) if not os.path.isdir(f)] \n",
    "random.seed(42)\n",
    "'''Shuffle a list (reorganize the order of the list items)'''\n",
    "random.shuffle(image_files)\n",
    "\n",
    "\n",
    "# create ground-truth label from the image path\n",
    "'''refer to any kind of information provided by direct\n",
    "observation.'''\n",
    "'''it is the information or data collected on site so that\n",
    "the input data (image) can be related to the actual features'''\n",
    "\n",
    "for img in image_files:\n",
    "\n",
    "   #cv2.imread() method loads an image from the specified file  \n",
    "    image = cv2.imread(img)\n",
    "\n",
    "    #changing dimensions\n",
    "    image = cv2.resize(image, (img_dims[0],img_dims[1]))\n",
    "\n",
    "    '''img_to_array() function is provided by keras to convert\n",
    "    a loaded image in PIL format into a NumPy\n",
    "    array.'''\n",
    "    image = img_to_array(image)\n",
    "    data.append(image)\n",
    "\n",
    "    label = img.split(os.path.sep)[-2]\n",
    "    if label == \"woman\":\n",
    "        label = 1\n",
    "    else:\n",
    "        label = 0\n",
    "        \n",
    "    labels.append([label])\n",
    "\n",
    "\n",
    "# pre-processing\n",
    "data = np.array(data, dtype=\"float\") / 255.0\n",
    "labels = np.array(labels)\n",
    "\n",
    "\n",
    "# split dataset for training and validation\n",
    "(trainX, testX, trainY, testY) = train_test_split(data, labels, test_size=0.2,\n",
    "                                                  random_state=42)\n",
    "trainY = to_categorical(trainY, num_classes=2)\n",
    "testY = to_categorical(testY, num_classes=2)\n",
    "\n",
    "\n",
    "# augmenting dataset\n",
    "'''Data augmentation in data analysis are techniques used\n",
    "to increase the amount of data by adding slightly modified\n",
    "copies of already existing data or newly created synthetic\n",
    "data from existing data.'''\n",
    "\n",
    "aug = ImageDataGenerator(rotation_range=25, width_shift_range=0.1,\n",
    "                         height_shift_range=0.1, shear_range=0.2, zoom_range=0.2,\n",
    "                         horizontal_flip=True, fill_mode=\"nearest\")\n",
    "\n",
    "# build model\n",
    "model = SmallerVGGNet.build(width=img_dims[0], height=img_dims[1], depth=img_dims[2],\n",
    "                            classes=2)\n",
    "\n",
    "# compile the model\n",
    "opt = Adam(lr=lr, decay=lr/epochs)\n",
    "model.compile(loss=\"binary_crossentropy\", optimizer=opt, metrics=[\"accuracy\"])\n",
    "\n",
    "# train the model\n",
    "H = model.fit_generator(aug.flow(trainX, trainY, batch_size=batch_size),\n",
    "                        validation_data=(testX,testY),\n",
    "                        steps_per_epoch=len(trainX) // batch_size,\n",
    "                        epochs=epochs, verbose=1)\n",
    "\n",
    "# save the model to disk\n",
    "model.save(args.model)\n",
    "\n",
    "# plot training/validation loss/accuracy\n",
    "plt.style.use(\"ggplot\")\n",
    "plt.figure()\n",
    "N = epochs\n",
    "plt.plot(np.arange(0,N), H.history[\"loss\"], label=\"train_loss\")\n",
    "plt.plot(np.arange(0,N), H.history[\"val_loss\"], label=\"val_loss\")\n",
    "plt.plot(np.arange(0,N), H.history[\"acc\"], label=\"train_acc\")\n",
    "plt.plot(np.arange(0,N), H.history[\"val_acc\"], label=\"val_acc\")\n",
    "\n",
    "plt.title(\"Training Loss and Accuracy\")\n",
    "plt.xlabel(\"Epoch #\")\n",
    "plt.ylabel(\"Loss/Accuracy\")\n",
    "plt.legend(loc=\"upper right\")\n",
    "\n",
    "# save plot to disk\n",
    "plt.savefig(args.plot)\n"
   ]
  },
  {
   "cell_type": "code",
   "execution_count": null,
   "id": "2498078c",
   "metadata": {},
   "outputs": [],
   "source": []
  }
 ],
 "metadata": {
  "kernelspec": {
   "display_name": "Python 3 (ipykernel)",
   "language": "python",
   "name": "python3"
  },
  "language_info": {
   "codemirror_mode": {
    "name": "ipython",
    "version": 3
   },
   "file_extension": ".py",
   "mimetype": "text/x-python",
   "name": "python",
   "nbconvert_exporter": "python",
   "pygments_lexer": "ipython3",
   "version": "3.10.13"
  }
 },
 "nbformat": 4,
 "nbformat_minor": 5
}
